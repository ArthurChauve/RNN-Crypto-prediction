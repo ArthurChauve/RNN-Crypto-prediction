{
 "cells": [
  {
   "cell_type": "code",
   "execution_count": 1,
   "id": "6f72e32d",
   "metadata": {},
   "outputs": [],
   "source": [
    "import pandas as pd\n",
    "import numpy as np\n",
    "import sklearn\n",
    "from sklearn import preprocessing\n",
    "from collections import deque\n",
    "import random\n",
    "import time"
   ]
  },
  {
   "cell_type": "code",
   "execution_count": 2,
   "id": "ecd15464",
   "metadata": {},
   "outputs": [],
   "source": [
    "datas = pd.read_csv('crypto_data/crypto_data/LTC-USD.csv',names = [\"times\", \"low\", \"high\",\"open\",\"close\",\"volume\" ])\n",
    "#Lecture des données et noms des colonnes"
   ]
  },
  {
   "cell_type": "code",
   "execution_count": 3,
   "id": "63963058",
   "metadata": {},
   "outputs": [
    {
     "data": {
      "text/html": [
       "<div>\n",
       "<style scoped>\n",
       "    .dataframe tbody tr th:only-of-type {\n",
       "        vertical-align: middle;\n",
       "    }\n",
       "\n",
       "    .dataframe tbody tr th {\n",
       "        vertical-align: top;\n",
       "    }\n",
       "\n",
       "    .dataframe thead th {\n",
       "        text-align: right;\n",
       "    }\n",
       "</style>\n",
       "<table border=\"1\" class=\"dataframe\">\n",
       "  <thead>\n",
       "    <tr style=\"text-align: right;\">\n",
       "      <th></th>\n",
       "      <th>times</th>\n",
       "      <th>low</th>\n",
       "      <th>high</th>\n",
       "      <th>open</th>\n",
       "      <th>close</th>\n",
       "      <th>volume</th>\n",
       "    </tr>\n",
       "  </thead>\n",
       "  <tbody>\n",
       "    <tr>\n",
       "      <th>0</th>\n",
       "      <td>1528968660</td>\n",
       "      <td>96.580002</td>\n",
       "      <td>96.589996</td>\n",
       "      <td>96.589996</td>\n",
       "      <td>96.580002</td>\n",
       "      <td>9.647200</td>\n",
       "    </tr>\n",
       "    <tr>\n",
       "      <th>1</th>\n",
       "      <td>1528968720</td>\n",
       "      <td>96.449997</td>\n",
       "      <td>96.669998</td>\n",
       "      <td>96.589996</td>\n",
       "      <td>96.660004</td>\n",
       "      <td>314.387024</td>\n",
       "    </tr>\n",
       "    <tr>\n",
       "      <th>2</th>\n",
       "      <td>1528968780</td>\n",
       "      <td>96.470001</td>\n",
       "      <td>96.570000</td>\n",
       "      <td>96.570000</td>\n",
       "      <td>96.570000</td>\n",
       "      <td>77.129799</td>\n",
       "    </tr>\n",
       "    <tr>\n",
       "      <th>3</th>\n",
       "      <td>1528968840</td>\n",
       "      <td>96.449997</td>\n",
       "      <td>96.570000</td>\n",
       "      <td>96.570000</td>\n",
       "      <td>96.500000</td>\n",
       "      <td>7.216067</td>\n",
       "    </tr>\n",
       "    <tr>\n",
       "      <th>4</th>\n",
       "      <td>1528968900</td>\n",
       "      <td>96.279999</td>\n",
       "      <td>96.540001</td>\n",
       "      <td>96.500000</td>\n",
       "      <td>96.389999</td>\n",
       "      <td>524.539978</td>\n",
       "    </tr>\n",
       "  </tbody>\n",
       "</table>\n",
       "</div>"
      ],
      "text/plain": [
       "        times        low       high       open      close      volume\n",
       "0  1528968660  96.580002  96.589996  96.589996  96.580002    9.647200\n",
       "1  1528968720  96.449997  96.669998  96.589996  96.660004  314.387024\n",
       "2  1528968780  96.470001  96.570000  96.570000  96.570000   77.129799\n",
       "3  1528968840  96.449997  96.570000  96.570000  96.500000    7.216067\n",
       "4  1528968900  96.279999  96.540001  96.500000  96.389999  524.539978"
      ]
     },
     "execution_count": 3,
     "metadata": {},
     "output_type": "execute_result"
    }
   ],
   "source": [
    "datas.head()"
   ]
  },
  {
   "cell_type": "code",
   "execution_count": 4,
   "id": "d8055a27",
   "metadata": {},
   "outputs": [
    {
     "name": "stdout",
     "output_type": "stream",
     "text": [
      "            LTC-USD_close     future  target\n",
      "time                                        \n",
      "1528968660      96.580002  96.500000       0\n",
      "1528968720      96.660004  96.389999       0\n",
      "1528968780      96.570000  96.519997       0\n",
      "1528968840      96.500000  96.440002       0\n",
      "1528968900      96.389999  96.470001       1\n"
     ]
    }
   ],
   "source": [
    "ratios = [\"BTC-USD\", \"LTC-USD\", \"ETH-USD\",\"BCH-USD\"] #Liste des ratios qu'on peut prédire\n",
    "SEQ_LEN = 60 #Taille de la séquence qui peut servir à prédire\n",
    "FUTURE_PERIOD_PREDICT = 3  #taille de la séquence à prédire\n",
    "RATIO_TO_PREDICT = \"LTC-USD\" #ratio choisi \n",
    "\n",
    "def classify(current, future):\n",
    "    if  float(future) > float(current):\n",
    "        return 1 \n",
    "    else :\n",
    "        return 0\n",
    "\n",
    "main_df = pd.DataFrame()\n",
    "for ratio in ratios : \n",
    "    dataset = f\"crypto_data/crypto_data/{ratio}.csv\" # on recup le nom des datasets de tous les ratios\n",
    "    df = pd.read_csv(dataset, names = [\"time\", \"low\", \"high\", \"open\", \"close\", \"volume\"]) #on lit le dataset\n",
    "    df.rename(columns={\"close\":f\"{ratio}_close\", \"volume\": f\"{ratio}_volume\"}, inplace=True) #On renomme les colonnes pour les réintégrer\n",
    "    df.set_index(\"time\", inplace=True) #On set l'index à time\n",
    "    df = df[[f\"{ratio}_close\",f\"{ratio}_volume\"]] #On récupère que les colonnes qui nous intéressent de df\n",
    "    if len(main_df) == 0 :\n",
    "        main_df = df\n",
    "    else : \n",
    "        main_df = main_df.join(df)\n",
    "main_df['future'] = main_df[[f\"{RATIO_TO_PREDICT}_close\"]].shift(-FUTURE_PERIOD_PREDICT) # On veut prédire 3 minutes plus loin\n",
    "main_df['target'] = list(map(classify, main_df[f\"{RATIO_TO_PREDICT}_close\"], main_df[\"future\"])) \n",
    "print (main_df[[f\"{RATIO_TO_PREDICT}_close\",\"future\", \"target\"]].head())\n"
   ]
  },
  {
   "cell_type": "code",
   "execution_count": 5,
   "id": "16e7553f",
   "metadata": {},
   "outputs": [],
   "source": [
    "def preprocess_df(df):\n",
    "    df = df.drop('future', 1)\n",
    "    for col in df.columns : \n",
    "        if (col != \"target\"):\n",
    "            df[col] = df[col].pct_change() #On analyse les variations et non les valeurs en elle même \n",
    "            df.dropna(inplace = True)\n",
    "            df[col] = preprocessing.scale(df[col].values)\n",
    "        df.dropna(inplace = True)\n",
    "        sequential_data = []\n",
    "        prev_days = deque(maxlen = SEQ_LEN) #On créé une file de taille 60 pour stocker des séquences de 60 valeures\n",
    "        for i in df.values : #Retourne une liste des lignes du data frame\n",
    "            prev_days.append([n for n in i[:-1]])\n",
    "            if (len(prev_days) == SEQ_LEN):\n",
    "                sequential_data.append([np.array(prev_days), i[-1]]) #Dès qu'on a une séquence de 60, on l'append\n",
    "    random.shuffle(sequential_data) #puis on shuffle\n",
    "    \n",
    "    sells = []\n",
    "    buys = [] \n",
    "    for seq, target in sequential_data : \n",
    "        if (target == 1) : \n",
    "            sells.append([seq, target])\n",
    "        else:\n",
    "            buys.append([seq, target]) # On compte les buys et les sells. Le but est d'en donner autant au modèle. \n",
    "    lower = min(len(sells), len(buys))\n",
    "    sells = sells[:lower]\n",
    "    buys = buys[:lower]\n",
    "    sequential_data = buys + sells \n",
    "    random.shuffle(sequential_data)\n",
    "    return sequential_data"
   ]
  },
  {
   "cell_type": "code",
   "execution_count": 6,
   "id": "e6b81ede",
   "metadata": {},
   "outputs": [],
   "source": [
    "def split(seq_data): # LLe but de cette fonction est maintenant de récupérer les données sous un vecteur (X, y)\n",
    "    X = []\n",
    "    y = []\n",
    " \n",
    "    for el in seq_data : \n",
    "        X.append(el[0])\n",
    "        y.append(el[1])\n",
    "    X = np.array(X).reshape(len(X),60,8)\n",
    "    y = np.array(y)\n",
    "    return X, y "
   ]
  },
  {
   "cell_type": "code",
   "execution_count": 7,
   "id": "eccbf6c0",
   "metadata": {},
   "outputs": [
    {
     "ename": "NameError",
     "evalue": "name 'seq_data' is not defined",
     "output_type": "error",
     "traceback": [
      "\u001b[1;31m---------------------------------------------------------------------------\u001b[0m",
      "\u001b[1;31mNameError\u001b[0m                                 Traceback (most recent call last)",
      "Cell \u001b[1;32mIn[7], line 1\u001b[0m\n\u001b[1;32m----> 1\u001b[0m x \u001b[38;5;241m=\u001b[39m split(\u001b[43mseq_data\u001b[49m)\n",
      "\u001b[1;31mNameError\u001b[0m: name 'seq_data' is not defined"
     ]
    }
   ],
   "source": [
    "x = split(seq_data)"
   ]
  },
  {
   "cell_type": "code",
   "execution_count": 8,
   "id": "4bae8e29",
   "metadata": {},
   "outputs": [
    {
     "name": "stderr",
     "output_type": "stream",
     "text": [
      "C:\\Users\\Arthur\\AppData\\Local\\Temp\\ipykernel_30616\\535630960.py:2: FutureWarning: In a future version of pandas all arguments of DataFrame.drop except for the argument 'labels' will be keyword-only.\n",
      "  df = df.drop('future', 1)\n",
      "C:\\Users\\Arthur\\AppData\\Local\\Temp\\ipykernel_30616\\535630960.py:2: FutureWarning: In a future version of pandas all arguments of DataFrame.drop except for the argument 'labels' will be keyword-only.\n",
      "  df = df.drop('future', 1)\n"
     ]
    }
   ],
   "source": [
    "times = sorted(main_df.index.values) #values retournes les valeurs de la colone sous forme de list\n",
    "last_5pct = times[int(0.05*len(times))]\n",
    "validation_main_df = main_df[(main_df.index < last_5pct)]\n",
    "main_df = main_df[(main_df.index >= last_5pct)]\n",
    "\n",
    "train_data = preprocess_df(main_df)\n",
    "\n",
    "test_data = preprocess_df(validation_main_df)\n",
    "X_train, y_train = split(train_data)\n",
    "X_test, y_test = split(test_data)"
   ]
  },
  {
   "cell_type": "code",
   "execution_count": 9,
   "id": "b73de799",
   "metadata": {},
   "outputs": [
    {
     "data": {
      "text/plain": [
       "92838"
      ]
     },
     "execution_count": 9,
     "metadata": {},
     "output_type": "execute_result"
    }
   ],
   "source": [
    "len(main_df)"
   ]
  },
  {
   "cell_type": "code",
   "execution_count": 10,
   "id": "04a62991",
   "metadata": {},
   "outputs": [
    {
     "data": {
      "text/plain": [
       "4886"
      ]
     },
     "execution_count": 10,
     "metadata": {},
     "output_type": "execute_result"
    }
   ],
   "source": [
    "len(validation_main_df)"
   ]
  },
  {
   "cell_type": "code",
   "execution_count": 11,
   "id": "87918b50",
   "metadata": {},
   "outputs": [
    {
     "data": {
      "text/plain": [
       "68476"
      ]
     },
     "execution_count": 11,
     "metadata": {},
     "output_type": "execute_result"
    }
   ],
   "source": [
    "len(train_data)"
   ]
  },
  {
   "cell_type": "code",
   "execution_count": 12,
   "id": "24175dd7",
   "metadata": {},
   "outputs": [
    {
     "data": {
      "text/plain": [
       "3740"
      ]
     },
     "execution_count": 12,
     "metadata": {},
     "output_type": "execute_result"
    }
   ],
   "source": [
    "len(test_data)"
   ]
  },
  {
   "cell_type": "code",
   "execution_count": null,
   "id": "6c28faf7",
   "metadata": {},
   "outputs": [],
   "source": []
  },
  {
   "cell_type": "code",
   "execution_count": 13,
   "id": "1107c70a",
   "metadata": {},
   "outputs": [],
   "source": [
    "import tensorflow as tf \n",
    "from tensorflow.keras.models import Sequential\n",
    "from tensorflow.keras.layers import Dense, Dropout, LSTM, BatchNormalization\n",
    "from tensorflow.compat.v1.keras.layers import CuDNNLSTM\n",
    "from tensorflow.keras.callbacks import TensorBoard, ModelCheckpoint "
   ]
  },
  {
   "cell_type": "code",
   "execution_count": 17,
   "id": "2913c88b",
   "metadata": {},
   "outputs": [],
   "source": [
    "model = Sequential()\n",
    "\n",
    "model.add(LSTM(128,input_shape=(X_train.shape[1:]), return_sequences = True, activation = 'tanh'))\n",
    "model.add(Dropout(0.2))\n",
    "model.add(BatchNormalization())\n",
    "\n",
    "model.add(LSTM(128, return_sequences = True, activation = 'tanh'))\n",
    "model.add(Dropout(0.2))\n",
    "model.add(BatchNormalization())\n",
    "\n",
    "model.add(LSTM(128, activation = 'tanh'))\n",
    "model.add(Dropout(0.2))\n",
    "model.add(BatchNormalization())\n",
    "\n",
    "model.add(Dense(128, activation = 'relu'))\n",
    "model.add(Dropout(0.2))\n",
    "\n",
    "model.add(Dense(2, activation = 'softmax'))"
   ]
  },
  {
   "cell_type": "code",
   "execution_count": 18,
   "id": "6e464888",
   "metadata": {},
   "outputs": [],
   "source": [
    "opt = tf.keras.optimizers.Adam(learning_rate = 0.001, decay = 1e-6)\n",
    "model.compile(loss = 'sparse_categorical_crossentropy', optimizer = opt, metrics = ['accuracy'])"
   ]
  },
  {
   "cell_type": "code",
   "execution_count": 19,
   "id": "eb355580",
   "metadata": {
    "scrolled": true
   },
   "outputs": [
    {
     "name": "stdout",
     "output_type": "stream",
     "text": [
      "Epoch 1/10\n",
      "2140/2140 [==============================] - 43s 19ms/step - loss: 0.7114 - accuracy: 0.5173 - val_loss: 0.6896 - val_accuracy: 0.5553\n",
      "Epoch 2/10\n",
      "2140/2140 [==============================] - 39s 18ms/step - loss: 0.6914 - accuracy: 0.5308 - val_loss: 0.6884 - val_accuracy: 0.5409\n",
      "Epoch 3/10\n",
      "2140/2140 [==============================] - 40s 19ms/step - loss: 0.6864 - accuracy: 0.5522 - val_loss: 0.6914 - val_accuracy: 0.5182\n",
      "Epoch 4/10\n",
      "2140/2140 [==============================] - 39s 18ms/step - loss: 0.6844 - accuracy: 0.5571 - val_loss: 0.6842 - val_accuracy: 0.5484\n",
      "Epoch 5/10\n",
      "2140/2140 [==============================] - 39s 18ms/step - loss: 0.6828 - accuracy: 0.5618 - val_loss: 0.6855 - val_accuracy: 0.5537\n",
      "Epoch 6/10\n",
      "2140/2140 [==============================] - 42s 19ms/step - loss: 0.6814 - accuracy: 0.5654 - val_loss: 0.6941 - val_accuracy: 0.5428\n",
      "Epoch 7/10\n",
      "2140/2140 [==============================] - 42s 20ms/step - loss: 0.6790 - accuracy: 0.5706 - val_loss: 0.6831 - val_accuracy: 0.5559\n",
      "Epoch 8/10\n",
      "2140/2140 [==============================] - 42s 20ms/step - loss: 0.6777 - accuracy: 0.5737 - val_loss: 0.6833 - val_accuracy: 0.5564\n",
      "Epoch 9/10\n",
      "2140/2140 [==============================] - 44s 21ms/step - loss: 0.6758 - accuracy: 0.5781 - val_loss: 0.6850 - val_accuracy: 0.5572\n",
      "Epoch 10/10\n",
      "2140/2140 [==============================] - 43s 20ms/step - loss: 0.6732 - accuracy: 0.5795 - val_loss: 0.6816 - val_accuracy: 0.5564\n"
     ]
    }
   ],
   "source": [
    "NAME = f\"{SEQ_LEN}-SEQ-{FUTURE_PERIOD_PREDICT}-PRED-{int(time.time())}\"\n",
    "tensorboard = TensorBoard(log_dir=f'test/{NAME}')\n",
    "\n",
    "History = model.fit(X_train, y_train, \n",
    "                    validation_data = (X_test, y_test),\n",
    "                   batch_size = 32,\n",
    "                   epochs = 10,\n",
    "                   callbacks = tensorboard )"
   ]
  },
  {
   "cell_type": "code",
   "execution_count": null,
   "id": "0c1692b9",
   "metadata": {},
   "outputs": [],
   "source": []
  }
 ],
 "metadata": {
  "kernelspec": {
   "display_name": "Tensorflow-GPU",
   "language": "python",
   "name": "tensorflow-gpu"
  },
  "language_info": {
   "codemirror_mode": {
    "name": "ipython",
    "version": 3
   },
   "file_extension": ".py",
   "mimetype": "text/x-python",
   "name": "python",
   "nbconvert_exporter": "python",
   "pygments_lexer": "ipython3",
   "version": "3.10.8"
  }
 },
 "nbformat": 4,
 "nbformat_minor": 5
}
